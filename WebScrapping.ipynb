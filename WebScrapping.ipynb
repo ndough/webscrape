{
 "cells": [
  {
   "cell_type": "code",
   "execution_count": 561,
   "id": "0938a9fc",
   "metadata": {},
   "outputs": [],
   "source": [
    "import requests\n",
    "from bs4 import BeautifulSoup\n",
    "import json\n",
    "from selenium import webdriver\n",
    "from selenium.webdriver.chrome.options import Options\n",
    "import time"
   ]
  },
  {
   "cell_type": "code",
   "execution_count": 562,
   "id": "50a3c55f",
   "metadata": {},
   "outputs": [],
   "source": [
    "options = Options()\n",
    "options.add_argument(\"--headless=new\")"
   ]
  },
  {
   "cell_type": "code",
   "execution_count": 563,
   "id": "4472b2da",
   "metadata": {},
   "outputs": [],
   "source": [
    "driver = webdriver.Chrome(options=options)\n",
    "driver.get('https://www.ubereats.com/ca/store/shuyi-tealicious-%E4%B9%A6%E4%BA%A6%E7%83%A7%E4%BB%99%E8%8D%89-341-spadina/bhVXQ5i8TFebleZuy6w8Kg?diningMode=DELIVERY&sc=SEARCH_SUGGESTION')"
   ]
  },
  {
   "cell_type": "code",
   "execution_count": 564,
   "id": "7ad8e573",
   "metadata": {},
   "outputs": [],
   "source": [
    "time.sleep(5)"
   ]
  },
  {
   "cell_type": "code",
   "execution_count": 565,
   "id": "60b3be15",
   "metadata": {},
   "outputs": [],
   "source": [
    "html = driver.page_source\n",
    "soup = BeautifulSoup(html, 'html.parser')"
   ]
  },
  {
   "cell_type": "code",
   "execution_count": 566,
   "id": "844d9b56",
   "metadata": {},
   "outputs": [],
   "source": [
    "menu = soup.select('#main-content > div:nth-child(6) > div > div:nth-child(4) > ul > li')"
   ]
  },
  {
   "cell_type": "code",
   "execution_count": 578,
   "id": "16593127",
   "metadata": {},
   "outputs": [],
   "source": [
    "data = {\n",
    "    \"product\": [\n",
    "    ]\n",
    "}"
   ]
  },
  {
   "cell_type": "code",
   "execution_count": 588,
   "id": "dd065529",
   "metadata": {},
   "outputs": [
    {
     "name": "stdout",
     "output_type": "stream",
     "text": [
      "[]\n",
      "[<div class=\"al en gl ic am cn\"><div class=\"bd c7 be c8 b1\"><span class=\"\">Jumbo Fruits Party 一桶水果茶(1000ml)</span></div><div class=\"id al fu ie\"><span class=\"if fj ig bd c0 cu c8 b1\">$12.65</span></div><div class=\"id ih ii ij cx ik c6\"><div class=\"bd c0 cu c8 b1\"><span class=\"il\">Include: Fresh Pineapple Jam, Watermelon, Mango Dice, Passion Fruit, Lime, Jasmine Tea.</span></div></div></div>, <div class=\"im cn in cx ak\"><div class=\"lazyload-wrapper\"><picture><source srcset=\"https://cn-geo1.uber.com/image-proc/resize/eats/format=webp/width=550/height=440/quality=70/srcb64=aHR0cHM6Ly90Yi1zdGF0aWMudWJlci5jb20vcHJvZC9pbWFnZS1wcm9jL3Byb2Nlc3NlZF9pbWFnZXMvNDE3NzAwZGI0OTE5MWYxOGNlNWM3OTBhZDc5OTAyMWIvYjRmYWNmNDk1YzIyZGY1MmYzY2E2MzUzNzllYmU2MTMuanBlZw==\" type=\"image/webp\"/><img alt=\"Jumbo Fruits Party 一桶水果茶(1000ml)\" aria-hidden=\"true\" class=\"gf im cn ge ja jb jc bs\" src=\"https://tb-static.uber.com/prod/image-proc/processed_images/417700db49191f18ce5c790ad799021b/b4facf495c22df52f3ca635379ebe613.jpeg\"/></picture></div><div class=\"ag as at ch cg gh\"></div></div>, <div class=\"al en gl ic am cn\"><div class=\"bd c7 be c8 b1\"><span class=\"\">Grape Jello Meet Taro Balls 葡萄芋圆冻冻(700ml)</span></div><div class=\"id al fu ie\"><span class=\"if fj ig bd c0 cu c8 b1\">$9.15</span></div><div class=\"id ih ii ij cx ik c6\"><div class=\"bd c0 cu c8 b1\"><span class=\"il\">Include: Jasmine Tea, Fig Jelly, Taro Balls,  Coconut Jelly, Grapefruit and Grape Juice.<br/>To keep the best quality and taste, “no sugar” is not optional, for the ice level of this item, \"no ice\" is not optional! (非常抱歉，为了保证这款产品的品质和味道，我们不能完全去糖和完全去冰，但如果您有特殊要求我们可以为您尽量少糖与少冰!)<br/></span></div></div></div>, <div class=\"im cn in cx ak\"><div class=\"lazyload-wrapper\"><picture><source srcset=\"https://cn-geo1.uber.com/image-proc/resize/eats/format=webp/width=550/height=440/quality=70/srcb64=aHR0cHM6Ly9kMXJhbHNvZ25qbmczNy5jbG91ZGZyb250Lm5ldC9kMGEyY2M0My0wY2Q2LTRmZDQtOTkxOC1kZjg4NGFjYjNjNWEuanBlZw==\" type=\"image/webp\"/><img alt=\"Grape Jello Meet Taro Balls 葡萄芋圆冻冻(700ml)\" aria-hidden=\"true\" class=\"gf im cn ge ja jb jc bs\" src=\"https://d1ralsognjng37.cloudfront.net/d0a2cc43-0cd6-4fd4-9918-df884acb3c5a.jpeg\"/></picture></div><div class=\"ag as at ch cg gh\"></div></div>, <div class=\"al en gl ic am cn\"><div class=\"bd c7 be c8 b1\"><span class=\"\">Watermelon Crush Tea 多肉西瓜冰茶</span></div><div class=\"id al fu ie\"><span class=\"if fj ig bd c0 cu c8 b1\">$8.95</span></div><div class=\"id ih ii ij cx ik c6\"><div class=\"bd c0 cu c8 b1\"><span class=\"il\">Include: Coconut Jelly, Fresh Watermelon, Jasmine Tea.</span></div></div></div>, <div class=\"im cn in cx ak\"><div class=\"lazyload-wrapper\"><picture><source srcset=\"https://cn-geo1.uber.com/image-proc/resize/eats/format=webp/width=550/height=440/quality=70/srcb64=aHR0cHM6Ly90Yi1zdGF0aWMudWJlci5jb20vcHJvZC9pbWFnZS1wcm9jL3Byb2Nlc3NlZF9pbWFnZXMvNDBjMDg0OGQxMzgxYzFmNGJhYjczOWE0ZWQ2MDdkNGQvYjRmYWNmNDk1YzIyZGY1MmYzY2E2MzUzNzllYmU2MTMuanBlZw==\" type=\"image/webp\"/><img alt=\"Watermelon Crush Tea 多肉西瓜冰茶\" aria-hidden=\"true\" class=\"gf im cn ge ja jb jc bs\" src=\"https://tb-static.uber.com/prod/image-proc/processed_images/40c0848d1381c1f4bab739a4ed607d4d/b4facf495c22df52f3ca635379ebe613.jpeg\"/></picture></div><div class=\"ag as at ch cg gh\"></div></div>, <div class=\"al en gl ic am cn\"><div class=\"bd c7 be c8 b1\"><span class=\"\">Mango Pomelo Sago 杨枝甘露</span></div><div class=\"id al fu ie\"><span class=\"if fj ig bd c0 cu c8 b1\">$8.65</span></div><div class=\"id ih ii ij cx ik c6\"><div class=\"bd c0 cu c8 b1\"><span class=\"il\">Include: Crushed Mango, Coconut Milk, Grapefruit, Diced Mango and Sago</span></div></div></div>, <div class=\"im cn in cx ak\"><div class=\"lazyload-wrapper\"><picture><source srcset=\"https://cn-geo1.uber.com/image-proc/resize/eats/format=webp/width=550/height=440/quality=70/srcb64=aHR0cHM6Ly9kMXJhbHNvZ25qbmczNy5jbG91ZGZyb250Lm5ldC83YTJhMGJlMi1jY2RlLTRhMDQtYjM1NC0yNTlhNGRmN2NhYTAuanBlZw==\" type=\"image/webp\"/><img alt=\"Mango Pomelo Sago 杨枝甘露\" aria-hidden=\"true\" class=\"gf im cn ge ja jb jc bs\" src=\"https://d1ralsognjng37.cloudfront.net/7a2a0be2-ccde-4a04-b354-259a4df7caa0.jpeg\"/></picture></div><div class=\"ag as at ch cg gh\"></div></div>, <div class=\"al en gl ic am cn\"><div class=\"bd c7 be c8 b1\"><span class=\"\">Mango Pomelo Yogurt 杨枝甘露酸奶(700ml)</span></div><div class=\"id al fu ie\"><span class=\"if fj ig bd c0 cu c8 b1\">$8.45</span></div><div class=\"id ih ii ij cx ik c6\"><div class=\"bd c0 cu c8 b1\"><span class=\"il\">Include: Jasmine Yogurt, Fig Jelly, Mango Dice, Sago, Mango Coconut Milk and Grapefruit.<br/></span></div></div></div>, <div class=\"im cn in cx ak\"><div class=\"lazyload-wrapper\"><picture><source srcset=\"https://cn-geo1.uber.com/image-proc/resize/eats/format=webp/width=550/height=440/quality=70/srcb64=aHR0cHM6Ly90Yi1zdGF0aWMudWJlci5jb20vcHJvZC9pbWFnZS1wcm9jL3Byb2Nlc3NlZF9pbWFnZXMvZTIwNmRlMGZjZGU0ZTJkODc2ODM5ZDBhNjhhMGQzMjIvZjBkMTc2MmI5MWZkODIzYTFhYTliZDBkYWI1YzY0OGQuanBlZw==\" type=\"image/webp\"/><img alt=\"Mango Pomelo Yogurt 杨枝甘露酸奶(700ml)\" aria-hidden=\"true\" class=\"gf im cn ge ja jb jc bs\" src=\"https://tb-static.uber.com/prod/image-proc/processed_images/e206de0fcde4e2d876839d0a68a0d322/f0d1762b91fd823a1aa9bd0dab5c648d.jpeg\"/></picture></div><div class=\"ag as at ch cg gh\"></div></div>]\n",
      "None\n",
      "None\n",
      "None\n",
      "None\n",
      "None\n",
      "[<div class=\"al en gl ic am cn\"><div class=\"bd c7 be c8 b1\"><span class=\"\">Taro Balls Lover</span></div><div class=\"id al fu ie\"><span class=\"if fj ig bd c0 cu c8 b1\">$15.55</span></div><div class=\"id ih ii ij cx ik c6\"><div class=\"bd c0 cu c8 b1\"><span class=\"il\">Taro Balls Grass Jelly Milk Tea (小芋圆烧仙草): Milk Tea, Taro Balls, Coconut Jelly, Red Bean and Grass Jelly.<br/>Taro Balls Meet Brown Sugar (黑糖小芋圆奶茶): Black tea based Milk tea, Taro Balls, Brown Sugar Jelly.</span></div></div></div>, <div class=\"im cn in cx ak\"><div class=\"lazyload-wrapper\"><picture><source srcset=\"https://cn-geo1.uber.com/image-proc/resize/eats/format=webp/width=550/height=440/quality=70/srcb64=aHR0cHM6Ly90Yi1zdGF0aWMudWJlci5jb20vcHJvZC9pbWFnZS1wcm9jL3Byb2Nlc3NlZF9pbWFnZXMvMDU4Yjc1NTIzOTNmNTA5MzFlNDBjODhhMDdiMDVmYzMvYjRmYWNmNDk1YzIyZGY1MmYzY2E2MzUzNzllYmU2MTMuanBlZw==\" type=\"image/webp\"/><img alt=\"Taro Balls Lover\" aria-hidden=\"true\" class=\"gf im cn ge ja jb jc bs\" src=\"https://tb-static.uber.com/prod/image-proc/processed_images/058b7552393f50931e40c88a07b05fc3/b4facf495c22df52f3ca635379ebe613.jpeg\"/></picture></div><div class=\"ag as at ch cg gh\"></div></div>, <div class=\"al en gl ic am cn\"><div class=\"bd c7 be c8 b1\"><span class=\"\">Summer Tea-Licious </span></div><div class=\"id al fu ie\"><span class=\"if fj ig bd c0 cu c8 b1\">$16.55</span></div><div class=\"id ih ii ij cx ik c6\"><div class=\"bd c0 cu c8 b1\"><span class=\"il\">Fresh Lime Iced Tea(爆打柠檬冰茶): Fig Jelly, Fresh Lime, Jasmine Tea.<br/>Watermelon Crush Tea(多肉西瓜冰茶): Coconut Jelly, Fresh Watermelon, Jasmine Tea.</span></div></div><div class=\"j1\"><div class=\"bd j2 be c1 j3 bm af j4 j5 dq ds iq j6\">Popular</div></div></div>, <div class=\"im cn in cx ak\"><div class=\"lazyload-wrapper\"><picture><source srcset=\"https://cn-geo1.uber.com/image-proc/resize/eats/format=webp/width=550/height=440/quality=70/srcb64=aHR0cHM6Ly90Yi1zdGF0aWMudWJlci5jb20vcHJvZC9pbWFnZS1wcm9jL3Byb2Nlc3NlZF9pbWFnZXMvZjkxZTM0MTYzMzBiZmFmYTQ2NjlhMzUyMDIxNTQzMmUvYjRmYWNmNDk1YzIyZGY1MmYzY2E2MzUzNzllYmU2MTMuanBlZw==\" type=\"image/webp\"/><img alt=\"Summer Tea-Licious \" aria-hidden=\"true\" class=\"gf im cn ge ja jb jc bs\" src=\"https://tb-static.uber.com/prod/image-proc/processed_images/f91e3416330bfafa4669a3520215432e/b4facf495c22df52f3ca635379ebe613.jpeg\"/></picture></div><div class=\"ag as at ch cg gh\"></div></div>, <div class=\"al en gl ic am cn\"><div class=\"bd c7 be c8 b1\"><span class=\"\">Cheese Lover</span></div><div class=\"id al fu ie\"><span class=\"if fj ig bd c0 cu c8 b1\">$20.25</span></div><div class=\"id ih ii ij cx ik c6\"><div class=\"bd c0 cu c8 b1\"><span class=\"il\">Mango Cheese Green Tea (芝士芒果多多): Fresh Mango, Jasmine Tea, Cheese.<br/>Strawberry Cheese Green Tea (芝士草莓多多) : Fig Jelly, Osmanthus Jelly, Fresh Strawberry, Jasmine Tea, Cheese.<br/></span></div></div></div>, <div class=\"im cn in cx ak\"><div class=\"lazyload-wrapper\"><div class=\"lazyload-placeholder\" style=\"height:158px\"></div></div><div class=\"ag as at ch cg gh\"></div></div>, <div class=\"al en gl ic am cn\"><div class=\"bd c7 be c8 b1\"><span class=\"\">Mulberry Fans</span></div><div class=\"id al fu ie\"><span class=\"if fj ig bd c0 cu c8 b1\">$17.00</span></div><div class=\"id ih ii ij cx ik c6\"><div class=\"bd c0 cu c8 b1\"><span class=\"il\">Mulberry Green Tea 桑葚莓莓（M）: Jasmine Tea, POPO, Fresh Mulberry, Fresh Strawberry, Fresh Lime<br/>Raw Coconut Mulberry 生椰桑葚莓莓: Jasmine Tea, Fresh Mulberry, Fresh Strawberry, Coconut Milk<br/></span></div></div></div>, <div class=\"im cn in cx ak\"><div class=\"lazyload-wrapper\"><div class=\"lazyload-placeholder\" style=\"height:158px\"></div></div><div class=\"ag as at ch cg gh\"></div></div>, <div class=\"al en gl ic am cn\"><div class=\"bd c7 be c8 b1\"><span class=\"\">Brown Sugar Family</span></div><div class=\"id al fu ie\"><span class=\"if fj ig bd c0 cu c8 b1\">$13.80</span></div><div class=\"id ih ii ij cx ik c6\"><div class=\"bd c0 cu c8 b1\"><span class=\"il\">Brown Sugar Plant Milk 黑糖珍珠植物乳 : Plant based Milk, Brown Sugar Tapioca<br/>Brown Sugar High Aroma 黑糖珍珠鸭屎香 : High Aroma Oolong Tea, Plant based Milk, Brown Sugar Tapioca</span></div></div></div>, <div class=\"im cn in cx ak\"><div class=\"lazyload-wrapper\"><div class=\"lazyload-placeholder\" style=\"height:158px\"></div></div><div class=\"ag as at ch cg gh\"></div></div>]\n",
      "None\n",
      "None\n",
      "None\n",
      "None\n",
      "None\n",
      "[<div class=\"al en gl ic am cn\"><div class=\"bd c7 be c8 b1\"><span class=\"\">Orange Camellia Oat Milk 橙漫山茶花(500ml)</span></div><div class=\"id al fu ie\"><span class=\"if fj ig bd c0 cu c8 b1\">$7.35</span></div><div class=\"id ih ii ij cx ik c6\"><div class=\"bd c0 cu c8 b1\"><span class=\"il\">Includes: Camellia Oolong Tea, Fresh Orange, Oat Milk, Plant Milk</span></div></div><div class=\"j1\"><div class=\"bd j2 be c1 j3 bm af j4 j5 dq ds iq j6\">Popular</div></div></div>, <div class=\"im cn in cx ak\"><div class=\"lazyload-wrapper\"><div class=\"lazyload-placeholder\" style=\"height:158px\"></div></div><div class=\"ag as at ch cg gh\"></div></div>, <div class=\"al en gl ic am cn\"><div class=\"bd c7 be c8 b1\"><span class=\"\">Chestnut Rose Yogurt 刺梨冻冻酸奶(500ml)</span></div><div class=\"id al fu ie\"><span class=\"if fj ig bd c0 cu c8 b1\">$7.95</span></div><div class=\"id ih ii ij cx ik c6\"><div class=\"bd c0 cu c8 b1\"><span class=\"il\">Include: Jasmine Yogurt, Jasmine Tea, Chestnut Rose Juice and Chestnut Rose Jelly.<br/></span></div></div></div>, <div class=\"im cn in cx ak\"><div class=\"lazyload-wrapper\"><div class=\"lazyload-placeholder\" style=\"height:158px\"></div></div><div class=\"ag as at ch cg gh\"></div></div>, <div class=\"al en gl ic am cn\"><div class=\"bd c7 be c8 b1\"><span class=\"\">Rich VC Yogurt 维C仙草酸奶(500ml)</span></div><div class=\"id al fu ie\"><span class=\"if fj ig bd c0 cu c8 b1\">$7.95</span></div><div class=\"id ih ii ij cx ik c6\"><div class=\"bd c0 cu c8 b1\"><span class=\"il\">Include: Jasmine Yogurt, Jasmine Tea, Chestnut Rose Juice and Grass Jelly.</span></div></div></div>, <div class=\"im cn in cx ak\"><div class=\"lazyload-wrapper\"><div class=\"lazyload-placeholder\" style=\"height:158px\"></div></div><div class=\"ag as at ch cg gh\"></div></div>, <div class=\"al en gl ic am cn\"><div class=\"bd c7 be c8 b1\"><span class=\"\">Camellia Oat Latte 山茶花燕麦拿铁(500ml)</span></div><div class=\"id al fu ie\"><span class=\"if fj ig bd c0 cu c8 b1\">$7.35</span></div><div class=\"id ih ii ij cx ik c6\"><div class=\"bd c0 cu c8 b1\"><span class=\"il\">Includes: Camellia Oolong Tea, Oat Milk</span></div></div></div>, <div class=\"im cn in cx ak\"><div class=\"lazyload-wrapper\"><div class=\"lazyload-placeholder\" style=\"height:158px\"></div></div><div class=\"ag as at ch cg gh\"></div></div>]\n",
      "None\n",
      "None\n",
      "None\n",
      "None\n",
      "[<div class=\"al en gl ic am cn\"><div class=\"bd c7 be c8 b1\"><span class=\"\">Jumbo Fruits Party 一桶水果茶(1000ml)</span></div><div class=\"id al fu ie\"><span class=\"if fj ig bd c0 cu c8 b1\">$12.65</span></div><div class=\"id ih ii ij cx ik c6\"><div class=\"bd c0 cu c8 b1\"><span class=\"il\">Include: Fresh Pineapple Jam, Watermelon, Mango Dice, Passion Fruit, Lime, Jasmine Tea.</span></div></div><div class=\"j1\"><div class=\"bd j2 be c1 j3 bm af j4 j5 dq ds iq j6\">Popular</div></div></div>, <div class=\"im cn in cx ak\"><div class=\"lazyload-wrapper\"><div class=\"lazyload-placeholder\" style=\"height:158px\"></div></div><div class=\"ag as at ch cg gh\"></div></div>, <div class=\"al en gl ic am cn\"><div class=\"bd c7 be c8 b1\"><span class=\"\">Signature Grass Jelly Milk Tea 书亦烧仙草</span></div><div class=\"id al fu ie\"><span class=\"if fj ig bd c0 cu c8 b1\">$7.95</span></div><div class=\"id ih ii ij cx ik c6\"><div class=\"bd c0 cu c8 b1\"><span class=\"il\">Include: Milk Tea, Grass Jelly, Coconut Jelly, Red Bean, Raisins, Tapioca.<br/>Sorry for this item, the sugar level is fixed. (非常抱歉，这一款产品糖度不能调整.)<br/></span></div></div></div>, <div class=\"im cn in cx ak\"><div class=\"lazyload-wrapper\"><div class=\"lazyload-placeholder\" style=\"height:158px\"></div></div><div class=\"ag as at ch cg gh\"></div></div>, <div class=\"al en gl ic am cn\"><div class=\"bd c7 be c8 b1\"><span class=\"\">Strawberry POPO Yogurt 草莓啵啵酸奶 (700ml)</span></div><div class=\"id al fu ie\"><span class=\"if fj ig bd c0 cu c8 b1\">$8.45</span></div><div class=\"id ih ii ij cx ik c6\"><div class=\"bd c0 cu c8 b1\"><span class=\"il\">Include: Jasmine Yogurt, Jasmine Tea, Fig Jelly, POPO and Fresh Strawberry.</span></div></div></div>, <div class=\"im cn in cx ak\"><div class=\"lazyload-wrapper\"><div class=\"lazyload-placeholder\" style=\"height:158px\"></div></div><div class=\"ag as at ch cg gh\"></div></div>, <div class=\"al en gl ic am cn\"><div class=\"bd c7 be c8 b1\"><span class=\"\">Mango Pomelo Yogurt 杨枝甘露酸奶(700ml)</span></div><div class=\"id al fu ie\"><span class=\"if fj ig bd c0 cu c8 b1\">$8.45</span></div><div class=\"id ih ii ij cx ik c6\"><div class=\"bd c0 cu c8 b1\"><span class=\"il\">Include: Jasmine Yogurt, Fig Jelly, Mango Dice, Sago, Mango Coconut Milk and Grapefruit.<br/></span></div></div></div>, <div class=\"im cn in cx ak\"><div class=\"lazyload-wrapper\"><div class=\"lazyload-placeholder\" style=\"height:158px\"></div></div><div class=\"ag as at ch cg gh\"></div></div>]\n",
      "None\n",
      "None\n",
      "None\n",
      "None\n",
      "[<div class=\"al en gl ic am cn\"><div class=\"bd c7 be c8 b1\"><span class=\"\">Camellia Oat Latte 山茶花燕麦拿铁(500ml)</span></div><div class=\"id al fu ie\"><span class=\"if fj ig bd c0 cu c8 b1\">$7.35</span></div><div class=\"id ih ii ij cx ik c6\"><div class=\"bd c0 cu c8 b1\"><span class=\"il\">Includes: Camellia Oolong Tea, Oat Milk</span></div></div></div>, <div class=\"im cn in cx ak\"><div class=\"lazyload-wrapper\"><div class=\"lazyload-placeholder\" style=\"height:158px\"></div></div><div class=\"ag as at ch cg gh\"></div></div>, <div class=\"al en gl ic am cn\"><div class=\"bd c7 be c8 b1\"><span class=\"\">Signature Bubble Tea 招牌珍珠奶茶</span></div><div class=\"id al fu ie\"><span class=\"if fj ig bd c0 cu c8 b1\">$7.95</span></div><div class=\"id ih ii ij cx ik c6\"><div class=\"bd c0 cu c8 b1\"><span class=\"il\">Include: Black tea based Milk tea, Tapioca<br/></span></div></div><div class=\"j1\"><div class=\"bd j2 be c1 j3 bm af j4 j5 dq ds iq j6\">Popular</div></div></div>, <div class=\"im cn in cx ak\"><div class=\"lazyload-wrapper\"><div class=\"lazyload-placeholder\" style=\"height:158px\"></div></div><div class=\"ag as at ch cg gh\"></div></div>, <div class=\"al en gl ic am cn\"><div class=\"bd c7 be c8 b1\"><span class=\"\">Brown Sugar Plant Milk 黑糖珍珠植物乳(500ml)</span></div><div class=\"id al fu ie\"><span class=\"if fj ig bd c0 cu c8 b1\">$7.35</span></div><div class=\"id ih ii ij cx ik c6\"><div class=\"bd c0 cu c8 b1\"><span class=\"il\">Includes: Plant based Milk, Brown Sugar Tapioca</span></div></div></div>, <div class=\"im cn in cx ak\"><div class=\"lazyload-wrapper\"><div class=\"lazyload-placeholder\" style=\"height: 158px;\"></div></div><div class=\"ag as at ch cg gh\"></div></div>, <div class=\"al en gl ic am cn\"><div class=\"bd c7 be c8 b1\"><span class=\"\">Mango Coconut Taro Balls 芒椰小丸子 (500ml)</span></div><div class=\"id al fu ie\"><span class=\"if fj ig bd c0 cu c8 b1\">$8.45</span></div><div class=\"id ih ii ij cx ik c6\"><div class=\"bd c0 cu c8 b1\"><span class=\"il\">Include: Coconut Milk, Rich Cream, Diced Mango, Taro Balls and Sago</span></div></div><div class=\"j1\"><div class=\"bd j2 be c1 j3 bm af j4 j5 dq ds iq j6\">Popular</div></div></div>, <div class=\"im cn in cx ak\"><div class=\"lazyload-wrapper\"><div class=\"lazyload-placeholder\" style=\"height: 158px;\"></div></div><div class=\"ag as at ch cg gh\"></div></div>, <div class=\"al en gl ic am cn\"><div class=\"bd c7 be c8 b1\"><span class=\"\">Royal No 1 Milk Tea 牛魔王黑砖奶茶</span></div><div class=\"id al fu ie\"><span class=\"if fj ig bd c0 cu c8 b1\">$8.75</span></div><div class=\"id ih ii ij cx ik c6\"><div class=\"bd c0 cu c8 b1\"><span class=\"il\">Include: Royal No.1 Blend Milk Tea, Brown Sugar Jelly<br/></span></div></div></div>, <div class=\"im cn in cx ak\"><div class=\"lazyload-wrapper\"><div class=\"lazyload-placeholder\" style=\"height: 158px;\"></div></div><div class=\"ag as at ch cg gh\"></div></div>, <div class=\"al en gl ic am cn\"><div class=\"bd c7 be c8 b1\"><span class=\"\">Taro Balls Meet Brown Sugar 黑糖小芋圆奶茶</span></div><div class=\"id al fu ie\"><span class=\"if fj ig bd c0 cu c8 b1\">$8.75</span></div><div class=\"id ih ii ij cx ik c6\"><div class=\"bd c0 cu c8 b1\"><span class=\"il\">Include: Black tea based Milk tea, Taro Balls, Brown Sugar Jelly</span></div></div></div>, <div class=\"im cn in cx ak\"><div class=\"lazyload-wrapper\"><div class=\"lazyload-placeholder\" style=\"height: 158px;\"></div></div><div class=\"ag as at ch cg gh\"></div></div>, <div class=\"al en gl ic am cn\"><div class=\"bd c7 be c8 b1\"><span class=\"\">Happy Taro Milk Tea 芋泥全家福(500ml)</span></div><div class=\"id al fu ie\"><span class=\"if fj ig bd c0 cu c8 b1\">$8.35</span></div><div class=\"id ih ii ij cx ik c6\"><div class=\"bd c0 cu c8 b1\"><span class=\"il\">Include: Jasmine Tea Based Milk Tea, Mashed Taro, Taro Balls, Sago</span></div></div></div>, <div class=\"im cn in cx ak\"><div class=\"lazyload-wrapper\"><div class=\"lazyload-placeholder\" style=\"height: 158px;\"></div></div><div class=\"ag as at ch cg gh\"></div></div>, <div class=\"al en gl ic am cn\"><div class=\"bd c7 be c8 b1\"><span class=\"\">Caramel Bubble Milk Tea 焦糖珍珠奶茶</span></div><div class=\"id al fu ie\"><span class=\"if fj ig bd c0 cu c8 b1\">$7.95</span></div><div class=\"id ih ii ij cx ik c6\"><div class=\"bd c0 cu c8 b1\"><span class=\"il\">Include: Black tea based Milk tea, Caramel, Tapioca<br/></span></div></div></div>, <div class=\"im cn in cx ak\"><div class=\"lazyload-wrapper\"><div class=\"lazyload-placeholder\" style=\"height: 158px;\"></div></div><div class=\"ag as at ch cg gh\"></div></div>, <div class=\"al en gl ic am cn\"><div class=\"bd c7 be c8 b1\"><span class=\"\">Mango Coconut Mashed Taro 芒椰芋泥绵绵 (500ml)</span></div><div class=\"id al fu ie\"><span class=\"if fj ig bd c0 cu c8 b1\">$8.45</span></div><div class=\"id ih ii ij cx ik c6\"><div class=\"bd c0 cu c8 b1\"><span class=\"il\">Include: Coconut Milk, Thick Milk, Diced Mango, Mashed Taro and Sago</span></div></div></div>, <div class=\"im cn in cx ak\"><div class=\"lazyload-wrapper\"><div class=\"lazyload-placeholder\" style=\"height: 158px;\"></div></div><div class=\"ag as at ch cg gh\"></div></div>]\n",
      "None\n",
      "None\n",
      "None\n",
      "None\n",
      "None\n",
      "None\n",
      "None\n",
      "None\n",
      "None\n",
      "[<div class=\"al en gl ic am cn\"><div class=\"bd c7 be c8 b1\"><span class=\"\">Signature Grass Jelly Milk Tea 书亦烧仙草</span></div><div class=\"id al fu ie\"><span class=\"if fj ig bd c0 cu c8 b1\">$7.95</span></div><div class=\"id ih ii ij cx ik c6\"><div class=\"bd c0 cu c8 b1\"><span class=\"il\">Include: Milk Tea, Grass Jelly, Coconut Jelly, Red Bean, Raisins, Tapioca.<br/>Sorry for this item, the sugar level is fixed. (非常抱歉，这一款产品糖度不能调整.)<br/></span></div></div></div>, <div class=\"im cn in cx ak\"><div class=\"lazyload-wrapper\"><div class=\"lazyload-placeholder\" style=\"height: 158px;\"></div></div><div class=\"ag as at ch cg gh\"></div></div>, <div class=\"al en gl ic am cn\"><div class=\"bd c7 be c8 b1\"><span class=\"\">Rich VC Yogurt 维C仙草酸奶(500ml)</span></div><div class=\"id al fu ie\"><span class=\"if fj ig bd c0 cu c8 b1\">$7.95</span></div><div class=\"id ih ii ij cx ik c6\"><div class=\"bd c0 cu c8 b1\"><span class=\"il\">Include: Jasmine Yogurt, Jasmine Tea, Chestnut Rose Juice and Grass Jelly.</span></div></div></div>, <div class=\"im cn in cx ak\"><div class=\"lazyload-wrapper\"><div class=\"lazyload-placeholder\" style=\"height: 158px;\"></div></div><div class=\"ag as at ch cg gh\"></div></div>, <div class=\"al en gl ic am cn\"><div class=\"bd c7 be c8 b1\"><span class=\"\">Coconut Grass Jelly Milk Tea 椰椰烧仙草  </span></div><div class=\"id al fu ie\"><span class=\"if fj ig bd c0 cu c8 b1\">$7.25</span></div><div class=\"id ih ii ij cx ik c6\"><div class=\"bd c0 cu c8 b1\"><span class=\"il\">Include: Coconut Milk, Jasmine Tea, Grass Jelly and Tapioca</span></div></div></div>, <div class=\"im cn in cx ak\"><div class=\"lazyload-wrapper\"><div class=\"lazyload-placeholder\" style=\"height: 158px;\"></div></div><div class=\"ag as at ch cg gh\"></div></div>, <div class=\"al en gl ic am cn\"><div class=\"bd c7 be c8 b1\"><span class=\"\">Taro Balls Grass Jelly Milk Tea 小芋圆烧仙草(500ml)</span></div><div class=\"id al fu ie\"><span class=\"if fj ig bd c0 cu c8 b1\">$7.95</span></div><div class=\"id ih ii ij cx ik c6\"><div class=\"bd c0 cu c8 b1\"><span class=\"il\">Include: Milk Tea, Taro Balls, Coconut Jelly, Red Bean and Grass Jelly.<br/>Sorry for this item, the sugar level is fixed. (非常抱歉，这一款产品糖度不能调整.)<br/></span></div></div></div>, <div class=\"im cn in cx ak\"><div class=\"lazyload-wrapper\"><div class=\"lazyload-placeholder\" style=\"height: 158px;\"></div></div><div class=\"ag as at ch cg gh\"></div></div>]\n",
      "None\n",
      "None\n",
      "None\n",
      "None\n",
      "[<div class=\"al en gl ic am cn\"><div class=\"bd c7 be c8 b1\"><span class=\"\">Jumbo Fruits Party 一桶水果茶(1000ml)</span></div><div class=\"id al fu ie\"><span class=\"if fj ig bd c0 cu c8 b1\">$12.65</span></div><div class=\"id ih ii ij cx ik c6\"><div class=\"bd c0 cu c8 b1\"><span class=\"il\">Include: Fresh Pineapple Jam, Watermelon, Mango Dice, Passion Fruit, Lime, Jasmine Tea.</span></div></div><div class=\"j1\"><div class=\"bd j2 be c1 j3 bm af j4 j5 dq ds iq j6\">Popular</div></div></div>, <div class=\"im cn in cx ak\"><div class=\"lazyload-wrapper\"><div class=\"lazyload-placeholder\" style=\"height: 158px;\"></div></div><div class=\"ag as at ch cg gh\"></div></div>, <div class=\"al en gl ic am cn\"><div class=\"bd c7 be c8 b1\"><span class=\"\">Watermelon Crush Tea 多肉西瓜冰茶</span></div><div class=\"id al fu ie\"><span class=\"if fj ig bd c0 cu c8 b1\">$8.95</span></div><div class=\"id ih ii ij cx ik c6\"><div class=\"bd c0 cu c8 b1\"><span class=\"il\">Include: Coconut Jelly, Fresh Watermelon, Jasmine Tea.</span></div></div><div class=\"j1\"><div class=\"bd j2 be c1 j3 bm af j4 j5 dq ds iq j6\">Popular</div></div></div>, <div class=\"im cn in cx ak\"><div class=\"lazyload-wrapper\"><div class=\"lazyload-placeholder\" style=\"height: 158px;\"></div></div><div class=\"ag as at ch cg gh\"></div></div>, <div class=\"al en gl ic am cn\"><div class=\"bd c7 be c8 b1\"><span class=\"\">Grape Jello Meet Taro Balls 葡萄芋圆冻冻(700ml)</span></div><div class=\"id al fu ie\"><span class=\"if fj ig bd c0 cu c8 b1\">$9.15</span></div><div class=\"id ih ii ij cx ik c6\"><div class=\"bd c0 cu c8 b1\"><span class=\"il\">Include: Jasmine Tea, Fig Jelly, Taro Balls,  Coconut Jelly, Grapefruit and Grape Juice.<br/>To keep the best quality and taste, “no sugar” is not optional, for the ice level of this item, \"no ice\" is not optional! (非常抱歉，为了保证这款产品的品质和味道，我们不能完全去糖和完全去冰，但如果您有特殊要求我们可以为您尽量少糖与少冰!)<br/></span></div></div><div class=\"j1\"><div class=\"bd j2 be c1 j3 bm af j4 j5 dq ds iq j6\">Popular</div></div></div>, <div class=\"im cn in cx ak\"><div class=\"lazyload-wrapper\"><div class=\"lazyload-placeholder\" style=\"height: 158px;\"></div></div><div class=\"ag as at ch cg gh\"></div></div>, <div class=\"al en gl ic am cn\"><div class=\"bd c7 be c8 b1\"><span class=\"\">Mango Pomelo Sago 杨枝甘露</span></div><div class=\"id al fu ie\"><span class=\"if fj ig bd c0 cu c8 b1\">$8.65</span></div><div class=\"id ih ii ij cx ik c6\"><div class=\"bd c0 cu c8 b1\"><span class=\"il\">Include: Crushed Mango, Coconut Milk, Grapefruit, Diced Mango and Sago</span></div></div></div>, <div class=\"im cn in cx ak\"><div class=\"lazyload-wrapper\"><div class=\"lazyload-placeholder\" style=\"height: 158px;\"></div></div><div class=\"ag as at ch cg gh\"></div></div>, <div class=\"al en gl ic am cn\"><div class=\"bd c7 be c8 b1\"><span class=\"\">Orange Camellia Oat Milk 橙漫山茶花(500ml)</span></div><div class=\"id al fu ie\"><span class=\"if fj ig bd c0 cu c8 b1\">$7.35</span></div><div class=\"id ih ii ij cx ik c6\"><div class=\"bd c0 cu c8 b1\"><span class=\"il\">Includes: Camellia Oolong Tea, Fresh Orange, Oat Milk, Plant Milk</span></div></div><div class=\"j1\"><div class=\"bd j2 be c1 j3 bm af j4 j5 dq ds iq j6\">Popular</div></div></div>, <div class=\"im cn in cx ak\"><div class=\"lazyload-wrapper\"><div class=\"lazyload-placeholder\" style=\"height: 158px;\"></div></div><div class=\"ag as at ch cg gh\"></div></div>, <div class=\"al en gl ic am cn\"><div class=\"bd c7 be c8 b1\"><span class=\"\">Strawberry POPO Yogurt 草莓啵啵酸奶 (700ml)</span></div><div class=\"id al fu ie\"><span class=\"if fj ig bd c0 cu c8 b1\">$8.45</span></div><div class=\"id ih ii ij cx ik c6\"><div class=\"bd c0 cu c8 b1\"><span class=\"il\">Include: Jasmine Yogurt, Jasmine Tea, Fig Jelly, POPO and Fresh Strawberry.</span></div></div></div>, <div class=\"im cn in cx ak\"><div class=\"lazyload-wrapper\"><div class=\"lazyload-placeholder\" style=\"height: 158px;\"></div></div><div class=\"ag as at ch cg gh\"></div></div>, <div class=\"al en gl ic am cn\"><div class=\"bd c7 be c8 b1\"><span class=\"\">Mango Pomelo Yogurt 杨枝甘露酸奶(700ml)</span></div><div class=\"id al fu ie\"><span class=\"if fj ig bd c0 cu c8 b1\">$8.45</span></div><div class=\"id ih ii ij cx ik c6\"><div class=\"bd c0 cu c8 b1\"><span class=\"il\">Include: Jasmine Yogurt, Fig Jelly, Mango Dice, Sago, Mango Coconut Milk and Grapefruit.<br/></span></div></div></div>, <div class=\"im cn in cx ak\"><div class=\"lazyload-wrapper\"><div class=\"lazyload-placeholder\" style=\"height: 158px;\"></div></div><div class=\"ag as at ch cg gh\"></div></div>, <div class=\"al en gl ic am cn\"><div class=\"bd c7 be c8 b1\"><span class=\"\">Chestnut Rose Yogurt 刺梨冻冻酸奶(500ml)</span></div><div class=\"id al fu ie\"><span class=\"if fj ig bd c0 cu c8 b1\">$7.95</span></div><div class=\"id ih ii ij cx ik c6\"><div class=\"bd c0 cu c8 b1\"><span class=\"il\">Include: Jasmine Yogurt, Jasmine Tea, Chestnut Rose Juice and Chestnut Rose Jelly.<br/></span></div></div></div>, <div class=\"im cn in cx ak\"><div class=\"lazyload-wrapper\"><div class=\"lazyload-placeholder\" style=\"height: 158px;\"></div></div><div class=\"ag as at ch cg gh\"></div></div>, <div class=\"al en gl ic am cn\"><div class=\"bd c7 be c8 b1\"><span class=\"\">Fresh Lime Iced Tea 爆打柠檬冰茶(700ml)</span></div><div class=\"id al fu ie\"><span class=\"if fj ig bd c0 cu c8 b1\">$8.65</span></div><div class=\"id ih ii ij cx ik c6\"><div class=\"bd c0 cu c8 b1\"><span class=\"il\">Include: Fig Jelly, Fresh Lime, Jasmine Tea.</span></div></div><div class=\"j1\"><div class=\"bd j2 be c1 j3 bm af j4 j5 dq ds iq j6\">Popular</div></div></div>, <div class=\"im cn in cx ak\"><div class=\"lazyload-wrapper\"><div class=\"lazyload-placeholder\" style=\"height: 158px;\"></div></div><div class=\"ag as at ch cg gh\"></div></div>, <div class=\"al en gl ic am cn\"><div class=\"bd c7 be c8 b1\"><span class=\"\">Grapefruit Yakult 红柚白月光 (700ml)</span></div><div class=\"id al fu ie\"><span class=\"if fj ig bd c0 cu c8 b1\">$9.15</span></div><div class=\"id ih ii ij cx ik c6\"><div class=\"bd c0 cu c8 b1\"><span class=\"il\">Include: Jasmine Tea, POPO, Fresh Grapefruit, Upgraded Yakult</span></div></div><div class=\"j1\"><div class=\"bd j2 be c1 j3 bm af j4 j5 dq ds iq j6\">Popular</div></div></div>, <div class=\"im cn in cx ak\"><div class=\"lazyload-wrapper\"><div class=\"lazyload-placeholder\" style=\"height: 158px;\"></div></div><div class=\"ag as at ch cg gh\"></div></div>, <div class=\"al en gl ic am cn\"><div class=\"bd c7 be c8 b1\"><span class=\"\">Chestnut Rose Green Tea 刺梨柠檬柚(500ml)</span></div><div class=\"id al fu ie\"><span class=\"if fj ig bd c0 cu c8 b1\">$7.95</span></div><div class=\"id ih ii ij cx ik c6\"><div class=\"bd c0 cu c8 b1\"><span class=\"il\">Include: Jasmine Tea, Coconut Jelly, Chestnut Rose Juice, Fresh Lime, Fresh Grapefruit</span></div></div><div class=\"j1\"><div class=\"bd j2 be c1 j3 bm af j4 j5 dq ds iq j6\">Popular</div></div></div>, <div class=\"im cn in cx ak\"><div class=\"lazyload-wrapper\"><div class=\"lazyload-placeholder\" style=\"height: 158px;\"></div></div><div class=\"ag as at ch cg gh\"></div></div>, <div class=\"al en gl ic am cn\"><div class=\"bd c7 be c8 b1\"><span class=\"\">Pineapple &amp; Passion Fruit POPO Tea 百香凤梨啵啵茶</span></div><div class=\"id al fu ie\"><span class=\"if fj ig bd c0 cu c8 b1\">$8.65</span></div><div class=\"id ih ii ij cx ik c6\"><div class=\"bd c0 cu c8 b1\"><span class=\"il\">Include: POPO, Fresh Pineapple Jam, Passion Fruit, Lime, Jasmine Tea.</span></div></div><div class=\"j1\"><div class=\"bd j2 be c1 j3 bm af j4 j5 dq ds iq j6\">Popular</div></div></div>, <div class=\"im cn in cx ak\"><div class=\"lazyload-wrapper\"><div class=\"lazyload-placeholder\" style=\"height: 158px;\"></div></div><div class=\"ag as at ch cg gh\"></div></div>, <div class=\"al en gl ic am cn\"><div class=\"bd c7 be c8 b1\"><span class=\"\">Raw Coconut Mulberry 生椰桑葚莓莓 </span></div><div class=\"id al fu ie\"><span class=\"if fj ig bd c0 cu c8 b1\">$9.85</span></div><div class=\"id ih ii ij cx ik c6\"><div class=\"bd c0 cu c8 b1\"><span class=\"il\">Include: Green Tea, Fresh Mulberry, Fresh Strawberry, Coconut Milk</span></div></div><div class=\"j1\"><div class=\"bd j2 be c1 j3 bm af j4 j5 dq ds iq j6\">Popular</div></div></div>, <div class=\"im cn in cx ak\"><div class=\"lazyload-wrapper\"><div class=\"lazyload-placeholder\" style=\"height: 158px;\"></div></div><div class=\"ag as at ch cg gh\"></div></div>, <div class=\"al en gl ic am cn\"><div class=\"bd c7 be c8 b1\"><span class=\"\">Mulberry Green Tea 桑葚莓莓 (500ml)</span></div><div class=\"id al fu ie\"><span class=\"if fj ig bd c0 cu c8 b1\">$8.15</span></div><div class=\"id ih ii ij cx ik c6\"><div class=\"bd c0 cu c8 b1\"><span class=\"il\">Include: Jasmine Tea, POPO, Fresh Mulberry, Fresh Strawberry, Fresh Lime</span></div></div><div class=\"j1\"><div class=\"bd j2 be c1 j3 bm af j4 j5 dq ds iq j6\">Popular</div></div></div>, <div class=\"im cn in cx ak\"><div class=\"lazyload-wrapper\"><div class=\"lazyload-placeholder\" style=\"height: 158px;\"></div></div><div class=\"ag as at ch cg gh\"></div></div>, <div class=\"al en gl ic am cn\"><div class=\"bd c7 be c8 b1\"><span class=\"\">Chestnut Rose Yakult 刺梨白月光 (700ml)</span></div><div class=\"id al fu ie\"><span class=\"if fj ig bd c0 cu c8 b1\">$9.15</span></div><div class=\"id ih ii ij cx ik c6\"><div class=\"bd c0 cu c8 b1\"><span class=\"il\">Include: POPO, Chestnut Rose Juice, Fresh Lime, Upgraded Yakult</span></div></div><div class=\"j1\"><div class=\"bd j2 be c1 j3 bm af j4 j5 dq ds iq j6\">Popular</div></div></div>, <div class=\"im cn in cx ak\"><div class=\"lazyload-wrapper\"><div class=\"lazyload-placeholder\" style=\"height: 158px;\"></div></div><div class=\"ag as at ch cg gh\"></div></div>, <div class=\"al en gl ic am cn\"><div class=\"bd c7 be c8 b1\"><span class=\"\">Camellia № 5 红颜刺梨朱砂痣</span></div><div class=\"id al fu ie\"><span class=\"if fj ig bd c0 cu c8 b1\">$8.55</span></div><div class=\"id ih ii ij cx ik c6\"><div class=\"bd c0 cu c8 b1\"><span class=\"il\">Includes: Camellia Oolong Tea, Coconut Jelly, Kumquat, Strawberry, Chestnut Rose Juice, Snow fungus, Goji Berries</span></div></div></div>, <div class=\"im cn in cx ak\"><div class=\"lazyload-wrapper\"><div class=\"lazyload-placeholder\" style=\"height: 158px;\"></div></div><div class=\"ag as at ch cg gh\"></div></div>, <div class=\"al en gl ic am cn\"><div class=\"bd c7 be c8 b1\"><span class=\"\">Honey Pomelo Tea 蜂蜜柚子茶(600ml)</span></div><div class=\"id al fu ie\"><span class=\"if fj ig bd c0 cu c8 b1\">$6.95</span></div><div class=\"id ih ii ij cx ik c6\"><div class=\"bd c0 cu c8 b1\"><span class=\"il\">Include: Jasmine Tea, Lime, Honey Pomelo.<br/>To keep the best quality and taste, for the sugar level of this item, \"no sugar\" is not optional! (非常抱歉，为了保证这款产品的品质和味道，我们不能完全去糖，但如果您有特殊要求我们可以为您尽量少糖!)</span></div></div></div>, <div class=\"im cn in cx ak\"><div class=\"lazyload-wrapper\"><div class=\"lazyload-placeholder\" style=\"height: 158px;\"></div></div><div class=\"ag as at ch cg gh\"></div></div>, <div class=\"al en gl ic am cn\"><div class=\"bd c7 be c8 b1\"><span class=\"\">Strawberry Cheese Green Tea 芝士草莓多多(700ml)</span></div><div class=\"id al fu ie\"><span class=\"if fj ig bd c0 cu c8 b1\">$9.95</span></div><div class=\"id ih ii ij cx ik c6\"><div class=\"bd c0 cu c8 b1\"><span class=\"il\">Include: Fig Jelly, Osmanthus Jelly, Fresh Strawberry, Jasmine Tea, Cheese.</span></div></div></div>, <div class=\"im cn in cx ak\"><div class=\"lazyload-wrapper\"><div class=\"lazyload-placeholder\" style=\"height: 158px;\"></div></div><div class=\"ag as at ch cg gh\"></div></div>, <div class=\"al en gl ic am cn\"><div class=\"bd c7 be c8 b1\"><span class=\"\">Mango Cheese Green Tea 芝士芒果多多(700ml)</span></div><div class=\"id al fu ie\"><span class=\"if fj ig bd c0 cu c8 b1\">$9.95</span></div><div class=\"id ih ii ij cx ik c6\"><div class=\"bd c0 cu c8 b1\"><span class=\"il\">Include: Fresh Mango, Jasmine Tea, Cheese</span></div></div></div>, <div class=\"im cn in cx ak\"><div class=\"lazyload-wrapper\"><div class=\"lazyload-placeholder\" style=\"height: 158px;\"></div></div><div class=\"ag as at ch cg gh\"></div></div>, <div class=\"al en gl ic am cn\"><div class=\"bd c7 be c8 b1\"><span class=\"\">Camellia №1 梨花飘雪(500ml)</span></div><div class=\"id al fu ie\"><span class=\"if fj ig bd c0 cu c8 b1\">$8.25</span></div><div class=\"id ih ii ij cx ik c6\"><div class=\"bd c0 cu c8 b1\"><span class=\"il\">Includes: Camellia Oolong Tea, Taro Balls, Snow fungus, Goji Berries</span></div></div></div>, <div class=\"im cn in cx ak\"><div class=\"lazyload-wrapper\"><div class=\"lazyload-placeholder\" style=\"height: 158px;\"></div></div><div class=\"ag as at ch cg gh\"></div></div>]\n",
      "None\n",
      "None\n",
      "None\n",
      "None\n",
      "None\n",
      "None\n",
      "None\n",
      "None\n",
      "None\n",
      "None\n",
      "None\n",
      "None\n",
      "None\n",
      "None\n",
      "None\n",
      "None\n",
      "None\n",
      "None\n",
      "None\n",
      "None\n",
      "[<div class=\"al en gl ic am cn\"><div class=\"bd c7 be c8 b1\"><span class=\"\">Raw Coconut Milk Tea 生椰柠檬撞奶(500ml)</span></div><div class=\"id al fu ie\"><span class=\"if fj ig bd c0 cu c8 b1\">$8.25</span></div><div class=\"id ih ii ij cx ik c6\"><div class=\"bd c0 cu c8 b1\"><span class=\"il\">Includes: Bantianyao Oolong Tea, Plant based Milk, Raw Coconut Milk, Fresh Lime<br/>To keep the best quality and taste, “no sugar” is not optional, for the ice level of this item, \"no ice\" is not optional! (非常抱歉，为了保证这款产品的品质和味道，我们不能完全去糖和完全去冰，但如果您有特殊要求我们可以为您尽量少糖与少冰!)</span></div></div></div>, <div class=\"im cn in cx ak\"><div class=\"lazyload-wrapper\"><div class=\"lazyload-placeholder\" style=\"height: 158px;\"></div></div><div class=\"ag as at ch cg gh\"></div></div>, <div class=\"al en gl ic am cn\"><div class=\"bd c7 be c8 b1\"><span class=\"\">Pure Oolong 半天夭乌龙茶(700ml)</span></div><div class=\"id al fu ie\"><span class=\"if fj ig bd c0 cu c8 b1\">$5.35</span></div><div class=\"id ih ii ij cx ik c6\"><div class=\"bd c0 cu c8 b1\"><span class=\"il\">Includes: Bantianyao Oolong Tea<br/>To keep the best quality and taste, for the ice level of this item, \"no ice\" is not optional! (非常抱歉，为了保证这款产品的品质和味道，我们不能完全去冰，但如果您有特殊要求我们可以为您尽量少冰!)</span></div></div></div>, <div class=\"im cn in cx ak\"><div class=\"lazyload-wrapper\"><div class=\"lazyload-placeholder\" style=\"height: 158px;\"></div></div><div class=\"ag as at ch cg gh\"></div></div>, <div class=\"al en gl ic am cn\"><div class=\"bd c7 be c8 b1\"><span class=\"\">Lemon Strawberry Oolong 香柠莓莓乌龙(500ml)</span></div><div class=\"id al fu ie\"><span class=\"if fj ig bd c0 cu c8 b1\">$8.25</span></div><div class=\"id ih ii ij cx ik c6\"><div class=\"bd c0 cu c8 b1\"><span class=\"il\">Includes: Fresh Lime, Strawberry, Bantianyao Oolong<br/>To keep the best quality and taste, “no sugar” is not optional! (非常抱歉，为了保证这款产品的品质和味道，我们不能完全去糖，但如果您有特殊要求我们可以为您尽量少糖!)</span></div></div></div>, <div class=\"im cn in cx ak\"><div class=\"lazyload-wrapper\"><div class=\"lazyload-placeholder\" style=\"height: 158px;\"></div></div><div class=\"ag as at ch cg gh\"></div></div>, <div class=\"al en gl ic am cn\"><div class=\"bd c7 be c8 b1\"><span class=\"\">Brown Sugar Oolong 黑糖珍珠乌龙(500ml)</span></div><div class=\"id al fu ie\"><span class=\"if fj ig bd c0 cu c8 b1\">$7.45</span></div><div class=\"id ih ii ij cx ik c6\"><div class=\"bd c0 cu c8 b1\"><span class=\"il\">Includes: Bantianyao Oolong Tea, Plant based Milk, Brown Sugar Tapioca</span></div></div></div>, <div class=\"im cn in cx ak\"><div class=\"lazyload-wrapper\"><div class=\"lazyload-placeholder\" style=\"height: 158px;\"></div></div><div class=\"ag as at ch cg gh\"></div></div>, <div class=\"al en gl ic am cn\"><div class=\"bd c7 be c8 b1\"><span class=\"\">Plant Milk Oolong 乌龙植乳茶(500ml)</span></div><div class=\"id al fu ie\"><span class=\"if fj ig bd c0 cu c8 b1\">$6.65</span></div><div class=\"id ih ii ij cx ik c6\"><div class=\"bd c0 cu c8 b1\"><span class=\"il\">Includes: Plant Milk, Bantianyao Oolong Tea<br/>To keep the best quality and taste, “no sugar” is not optional! (非常抱歉，为了保证这款产品的品质和味道，我们不能完全去糖，但如果您有特殊要求我们可以为您尽量少糖!)</span></div></div></div>, <div class=\"im cn in cx ak\"><div class=\"lazyload-wrapper\"><div class=\"lazyload-placeholder\" style=\"height: 158px;\"></div></div><div class=\"ag as at ch cg gh\"></div></div>]\n",
      "None\n",
      "None\n",
      "None\n",
      "None\n",
      "None\n"
     ]
    }
   ],
   "source": [
    "for element in menu:\n",
    "    heading = element.find('h3')\n",
    "    menu_list = element.select('ul > li > div > div > div:nth-child(1) > div')\n",
    "    print(menu_list)\n",
    "    for item in menu_list:\n",
    "        if item.text.strip() != '':\n",
    "            name_array = item.select('div:nth-child(1) > div:nth-child(1)')\n",
    "            price_array = item.select('div:nth-child(2) > span')\n",
    "            description_array = item.select('div:nth-child(3)')\n",
    "            picture_array = element.find(alt=name)\n",
    "            print(picture_array)\n",
    "            for element in name_array:\n",
    "                name = element.text.strip()\n",
    "            for element in price_array:\n",
    "                price = element.text.strip()\n",
    "            for element in description_array:\n",
    "                description = element.text.strip()\n",
    "            menu_data = {\"name\": name, \"price\": price, \"description\": description}\n",
    "            picture_array = element.find(alt=name)\n",
    "        if heading != None:\n",
    "            heading_data = heading.text.strip()\n",
    "            data[\"product\"].append({\"title\": heading_data, \"menu\": [menu_data]})\n"
   ]
  },
  {
   "cell_type": "code",
   "execution_count": 580,
   "id": "e2b19758",
   "metadata": {},
   "outputs": [],
   "source": [
    "json_data = json.dumps(data, indent=4)\n",
    "\n",
    "# Write the JSON data to a file\n",
    "with open(\"data.json\", \"w\") as outfile:\n",
    "    outfile.write(json_data)"
   ]
  },
  {
   "cell_type": "code",
   "execution_count": null,
   "id": "78598a05",
   "metadata": {},
   "outputs": [],
   "source": []
  }
 ],
 "metadata": {
  "kernelspec": {
   "display_name": "Python 3 (ipykernel)",
   "language": "python",
   "name": "python3"
  },
  "language_info": {
   "codemirror_mode": {
    "name": "ipython",
    "version": 3
   },
   "file_extension": ".py",
   "mimetype": "text/x-python",
   "name": "python",
   "nbconvert_exporter": "python",
   "pygments_lexer": "ipython3",
   "version": "3.9.13"
  }
 },
 "nbformat": 4,
 "nbformat_minor": 5
}
