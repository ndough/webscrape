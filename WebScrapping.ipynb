{
 "cells": [
  {
   "cell_type": "code",
   "execution_count": 1,
   "id": "0938a9fc",
   "metadata": {},
   "outputs": [],
   "source": [
    "import requests\n",
    "from bs4 import BeautifulSoup\n",
    "import json\n",
    "from selenium import webdriver\n",
    "from selenium.webdriver.chrome.options import Options\n",
    "import time"
   ]
  },
  {
   "cell_type": "code",
   "execution_count": 2,
   "id": "50a3c55f",
   "metadata": {},
   "outputs": [],
   "source": [
    "options = Options()\n",
    "options.add_argument(\"--headless=new\")"
   ]
  },
  {
   "cell_type": "code",
   "execution_count": 3,
   "id": "4472b2da",
   "metadata": {},
   "outputs": [],
   "source": [
    "driver = webdriver.Chrome(options=options)\n",
    "driver.get('https://www.ubereats.com/ca/store/shuyi-tealicious-%E4%B9%A6%E4%BA%A6%E7%83%A7%E4%BB%99%E8%8D%89-341-spadina/bhVXQ5i8TFebleZuy6w8Kg?diningMode=DELIVERY&sc=SEARCH_SUGGESTION')"
   ]
  },
  {
   "cell_type": "code",
   "execution_count": 4,
   "id": "7ad8e573",
   "metadata": {},
   "outputs": [],
   "source": [
    "time.sleep(5)"
   ]
  },
  {
   "cell_type": "code",
   "execution_count": 5,
   "id": "60b3be15",
   "metadata": {},
   "outputs": [],
   "source": [
    "html = driver.page_source\n",
    "soup = BeautifulSoup(html, 'html.parser')"
   ]
  },
  {
   "cell_type": "code",
   "execution_count": 6,
   "id": "844d9b56",
   "metadata": {},
   "outputs": [],
   "source": [
    "menu = soup.select('#main-content > div:nth-child(6) > div > div:nth-child(4) > ul > li')"
   ]
  },
  {
   "cell_type": "code",
   "execution_count": 7,
   "id": "16593127",
   "metadata": {},
   "outputs": [],
   "source": [
    "data = {\n",
    "    \"product\": [\n",
    "    ]\n",
    "}"
   ]
  },
  {
   "cell_type": "code",
   "execution_count": 8,
   "id": "dd065529",
   "metadata": {},
   "outputs": [],
   "source": [
    "for element in menu:\n",
    "    heading = element.select('h3')\n",
    "    menu_list = element.select('li:nth-child(n+2) > ul')\n",
    "    for item in heading:\n",
    "        heading_name = item.text.strip()\n",
    "        for item in menu_list:\n",
    "            if item.text.strip() != '':\n",
    "                name_array = item.select(' li > div > div > div:nth-child(2) > div:nth-child(1) > span')\n",
    "                price_array = item.select(' li > div > div > div:nth-child(2) > div:nth-child(2)')\n",
    "                description_array = item.select('div:nth-child(3)')\n",
    "                for element in name_array:\n",
    "                    name = element.text.strip()\n",
    "                for element in price_array:\n",
    "                    price = element.text.strip()\n",
    "                for element in description_array:\n",
    "                    description = element.text.strip()\n",
    "                menu_data = {\"section\": heading_name, \"name\": name, \"price\": price, \"description\": description}\n",
    "                data[\"product\"].append(menu_data)"
   ]
  },
  {
   "cell_type": "code",
   "execution_count": 580,
   "id": "e2b19758",
   "metadata": {},
   "outputs": [],
   "source": [
    "json_data = json.dumps(data, indent=4)\n",
    "\n",
    "# Write the JSON data to a file\n",
    "with open(\"data.json\", \"w\") as outfile:\n",
    "    outfile.write(json_data)"
   ]
  },
  {
   "cell_type": "code",
   "execution_count": null,
   "id": "78598a05",
   "metadata": {},
   "outputs": [],
   "source": []
  }
 ],
 "metadata": {
  "kernelspec": {
   "display_name": "base",
   "language": "python",
   "name": "python3"
  },
  "language_info": {
   "codemirror_mode": {
    "name": "ipython",
    "version": 3
   },
   "file_extension": ".py",
   "mimetype": "text/x-python",
   "name": "python",
   "nbconvert_exporter": "python",
   "pygments_lexer": "ipython3",
   "version": "3.9.13"
  },
  "vscode": {
   "interpreter": {
    "hash": "dca0e5622e9ba31d381fe6d6fe0428c3df605e539389d1a1df152df6a50aa401"
   }
  }
 },
 "nbformat": 4,
 "nbformat_minor": 5
}
